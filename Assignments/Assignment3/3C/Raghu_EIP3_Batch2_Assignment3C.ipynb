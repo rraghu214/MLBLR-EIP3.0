{
  "nbformat": 4,
  "nbformat_minor": 0,
  "metadata": {
    "colab": {
      "name": "Raghu_EIP3_Batch2_Assignment3C.ipynb",
      "version": "0.3.2",
      "provenance": [],
      "collapsed_sections": []
    },
    "kernelspec": {
      "name": "python3",
      "display_name": "Python 3"
    },
    "accelerator": "GPU"
  },
  "cells": [
    {
      "metadata": {
        "id": "8edSiHPi2N5l",
        "colab_type": "code",
        "colab": {}
      },
      "cell_type": "code",
      "source": [
        "# https://keras.io/\n",
        "!pip install -q keras\n",
        "import keras\n",
        "\n",
        "import keras\n",
        "from keras.datasets import cifar10\n",
        "from keras.models import Model, Sequential\n",
        "from keras.layers import Dense, Dropout, Flatten, Input, AveragePooling2D, merge, Activation\n",
        "from keras.layers import Conv2D, MaxPooling2D, BatchNormalization, DepthwiseConv2D\n",
        "from keras.layers import Concatenate\n",
        "from keras.optimizers import Adam\n",
        "from keras.layers.advanced_activations import LeakyReLU\n",
        "from keras.layers import Reshape, Activation, Conv2D, Input, MaxPooling2D, BatchNormalization, Flatten, Dense, Lambda\n",
        "from keras.layers.merge import concatenate\n",
        "\n",
        "# this part will prevent tensorflow to allocate all the avaliable GPU Memory\n",
        "# backend\n",
        "import tensorflow as tf\n",
        "from keras import backend as k\n",
        "\n",
        "# Don't pre-allocate memory; allocate as-needed\n",
        "config = tf.ConfigProto()\n",
        "config.gpu_options.allow_growth = True\n",
        "\n",
        "# Create a session with the above options specified.\n",
        "k.tensorflow_backend.set_session(tf.Session(config=config))\n",
        "\n",
        "# Hyperparameters\n",
        "batch_size = 128\n",
        "num_classes = 10\n",
        "epochs = 50\n",
        "l = 10\n",
        "num_filter = 20"
      ],
      "execution_count": 0,
      "outputs": []
    },
    {
      "metadata": {
        "id": "-hkvQwOH2cCO",
        "colab_type": "code",
        "outputId": "5c3040ef-ba96-4e4c-ef82-22525f83fb93",
        "colab": {
          "base_uri": "https://localhost:8080/",
          "height": 50
        }
      },
      "cell_type": "code",
      "source": [
        "# Load CIFAR10 Data\n",
        "(x_train, y_train), (x_test, y_test) = cifar10.load_data()\n",
        "img_height, img_width, channel = x_train.shape[1],x_train.shape[2],x_train.shape[3]\n",
        "\n",
        "# convert to one hot encoing \n",
        "y_train = keras.utils.to_categorical(y_train, num_classes)\n",
        "y_test = keras.utils.to_categorical(y_test, num_classes)"
      ],
      "execution_count": 3,
      "outputs": [
        {
          "output_type": "stream",
          "text": [
            "Downloading data from https://www.cs.toronto.edu/~kriz/cifar-10-python.tar.gz\n",
            "170500096/170498071 [==============================] - 263s 2us/step\n"
          ],
          "name": "stdout"
        }
      ]
    },
    {
      "metadata": {
        "id": "ztoDypc63gEs",
        "colab_type": "code",
        "colab": {}
      },
      "cell_type": "code",
      "source": [
        "def space_to_depth_x2(x):\n",
        "    return tf.space_to_depth(x, block_size=2)"
      ],
      "execution_count": 0,
      "outputs": []
    },
    {
      "metadata": {
        "id": "SNnGm8Tv2fR1",
        "colab_type": "code",
        "outputId": "7de5e627-b185-40ac-ce79-82bd3d8e8264",
        "colab": {
          "base_uri": "https://localhost:8080/",
          "height": 87
        }
      },
      "cell_type": "code",
      "source": [
        "\"\"\"\n",
        "input = Input(shape=(img_height, img_width, channel,))\n",
        "\n",
        "# Layer 1\n",
        "layer1 = Conv2D(32, (3,3), strides=(1,1), padding='same', name='conv_1', use_bias=False)(input)\n",
        "layer1 = BatchNormalization(name='norm_1')(layer1)\n",
        "layer1 = LeakyReLU(alpha=0.1)(layer1)\n",
        "layer1 = MaxPooling2D(pool_size=(2, 2))(layer1)\n",
        "\n",
        "# Layer 2\n",
        "layer1 = Conv2D(64, (3,3), strides=(1,1), padding='same', name='conv_2', use_bias=False)(layer1)\n",
        "layer1 = BatchNormalization(name='norm_2')(layer1)\n",
        "layer1 = LeakyReLU(alpha=0.1)(layer1)\n",
        "layer1 = MaxPooling2D(pool_size=(2, 2))(layer1)\n",
        "\n",
        "# Layer 3\n",
        "layer1 = Conv2D(128, (3,3), strides=(1,1), padding='same', name='conv_3', use_bias=False)(layer1)\n",
        "layer1 = BatchNormalization(name='norm_3')(layer1)\n",
        "layer1 = LeakyReLU(alpha=0.1)(layer1)\n",
        "\n",
        "# Layer 4\n",
        "layer1 = Conv2D(64, (1,1), strides=(1,1), padding='same', name='conv_4', use_bias=False)(layer1)\n",
        "layer1 = BatchNormalization(name='norm_4')(layer1)\n",
        "layer1 = LeakyReLU(alpha=0.1)(layer1)\n",
        "\n",
        "# Layer 5\n",
        "layer1 = Conv2D(128, (3,3), strides=(1,1), padding='same', name='conv_5', use_bias=False)(layer1)\n",
        "layer1 = BatchNormalization(name='norm_5')(layer1)\n",
        "layer1 = LeakyReLU(alpha=0.1)(layer1)\n",
        "layer1 = MaxPooling2D(pool_size=(2, 2))(layer1)\n",
        "\n",
        "# Layer 6\n",
        "layer1 = Conv2D(256, (3,3), strides=(1,1), padding='same', name='conv_6', use_bias=False)(layer1)\n",
        "layer1 = BatchNormalization(name='norm_6')(layer1)\n",
        "layer1 = LeakyReLU(alpha=0.1)(layer1)\n",
        "\n",
        "# Layer 7\n",
        "layer1 = Conv2D(128, (1,1), strides=(1,1), padding='same', name='conv_7', use_bias=False)(layer1)\n",
        "layer1 = BatchNormalization(name='norm_7')(layer1)\n",
        "layer1 = LeakyReLU(alpha=0.1)(layer1)\n",
        "\n",
        "# Layer 8\n",
        "layer1 = Conv2D(256, (3,3), strides=(1,1), padding='same', name='conv_8', use_bias=False)(layer1)\n",
        "layer1 = BatchNormalization(name='norm_8')(layer1)\n",
        "layer1 = LeakyReLU(alpha=0.1)(layer1)\n",
        "layer1 = MaxPooling2D(pool_size=(2, 2))(layer1)\n",
        "\n",
        "# Layer 9\n",
        "layer1 = Conv2D(512, (3,3), strides=(1,1), padding='same', name='conv_9', use_bias=False)(layer1)\n",
        "layer1 = BatchNormalization(name='norm_9')(layer1)\n",
        "layer1 = LeakyReLU(alpha=0.1)(layer1)\n",
        "\n",
        "# Layer 10\n",
        "layer1 = Conv2D(256, (1,1), strides=(1,1), padding='same', name='conv_10', use_bias=False)(layer1)\n",
        "layer1 = BatchNormalization(name='norm_10')(layer1)\n",
        "layer1 = LeakyReLU(alpha=0.1)(layer1)\n",
        "\n",
        "# Layer 11\n",
        "layer1 = Conv2D(512, (3,3), strides=(1,1), padding='same', name='conv_11', use_bias=False)(layer1)\n",
        "layer1 = BatchNormalization(name='norm_11')(layer1)\n",
        "layer1 = LeakyReLU(alpha=0.1)(layer1)\n",
        "\n",
        "# Layer 12\n",
        "layer1 = Conv2D(256, (1,1), strides=(1,1), padding='same', name='conv_12', use_bias=False)(layer1)\n",
        "layer1 = BatchNormalization(name='norm_12')(layer1)\n",
        "layer1 = LeakyReLU(alpha=0.1)(layer1)\n",
        "\n",
        "skip_connection = layer1\n",
        "\n",
        "layer1 = MaxPooling2D(pool_size=(2, 2))(layer1)\n",
        "\n",
        "# Layer 13\n",
        "layer1 = Conv2D(512, (3,3), strides=(1,1), padding='same', name='conv_13', use_bias=False)(layer1)\n",
        "layer1 = BatchNormalization(name='norm_13')(layer1)\n",
        "layer1 = LeakyReLU(alpha=0.1)(layer1)\n",
        "\n",
        "\n",
        "\n",
        "# Layer 14\n",
        "layer1 = Conv2D(1024, (3,3), strides=(1,1), padding='same', name='conv_14', use_bias=False)(layer1)\n",
        "layer1 = BatchNormalization(name='norm_14')(layer1)\n",
        "layer1 = LeakyReLU(alpha=0.1)(layer1)\n",
        "\n",
        "# Layer 15\n",
        "layer1 = Conv2D(512, (1,1), strides=(1,1), padding='same', name='conv_15', use_bias=False)(layer1)\n",
        "layer1 = BatchNormalization(name='norm_15')(layer1)\n",
        "layer1 = LeakyReLU(alpha=0.1)(layer1)\n",
        "\n",
        "# Layer 16\n",
        "layer1 = Conv2D(1024, (3,3), strides=(1,1), padding='same', name='conv_16', use_bias=False)(layer1)\n",
        "layer1 = BatchNormalization(name='norm_16')(layer1)\n",
        "layer1 = LeakyReLU(alpha=0.1)(layer1)\n",
        "\n",
        "# Layer 17\n",
        "layer1 = Conv2D(512, (1,1), strides=(1,1), padding='same', name='conv_17', use_bias=False)(layer1)\n",
        "layer1 = BatchNormalization(name='norm_17')(layer1)\n",
        "layer1 = LeakyReLU(alpha=0.1)(layer1)\n",
        "\n",
        "# Layer 18\n",
        "layer1 = Conv2D(1024, (3,3), strides=(1,1), padding='same', name='conv_18', use_bias=False)(layer1)\n",
        "layer1 = BatchNormalization(name='norm_18')(layer1)\n",
        "layer1 = LeakyReLU(alpha=0.1)(layer1)\n",
        "\n",
        "# Layer 19\n",
        "layer1 = Conv2D(1024, (3,3), strides=(1,1), padding='same', name='conv_19', use_bias=False)(layer1)\n",
        "layer1 = BatchNormalization(name='norm_19')(layer1)\n",
        "layer1 = LeakyReLU(alpha=0.1)(layer1)\n",
        "\n",
        "# Layer 20\n",
        "layer1 = Conv2D(1024, (3,3), strides=(1,1), padding='same', name='conv_20', use_bias=False)(layer1)\n",
        "layer1 = BatchNormalization(name='norm_20')(layer1)\n",
        "layer1 = LeakyReLU(alpha=0.1)(layer1)\n",
        "\n",
        "# Layer 21\n",
        "skip_connection = Conv2D(64, (1,1), strides=(1,1), padding='same', name='conv_21', use_bias=False)(skip_connection)\n",
        "skip_connection = BatchNormalization(name='norm_21')(skip_connection)\n",
        "skip_connection = LeakyReLU(alpha=0.1)(skip_connection)\n",
        "skip_connection = Lambda(space_to_depth_x2)(skip_connection)\n",
        "\n",
        "layer1 = concatenate([skip_connection, layer1])\n",
        "\n",
        "# Layer 22\n",
        "layer1 = Conv2D(1024, (3,3), strides=(1,1), padding='same', name='conv_22', use_bias=False)(layer1)\n",
        "layer1 = BatchNormalization(name='norm_22')(layer1)\n",
        "layer1 = LeakyReLU(alpha=0.1)(layer1)\n",
        "\n",
        "# Layer 23\n",
        "layer1 = Flatten()(layer1)\n",
        "\n",
        "output = Dense(num_classes, activation='softmax')(layer1)\n",
        "\n",
        "\"\"\""
      ],
      "execution_count": 0,
      "outputs": [
        {
          "output_type": "stream",
          "text": [
            "WARNING:tensorflow:From /usr/local/lib/python3.6/dist-packages/tensorflow/python/framework/op_def_library.py:263: colocate_with (from tensorflow.python.framework.ops) is deprecated and will be removed in a future version.\n",
            "Instructions for updating:\n",
            "Colocations handled automatically by placer.\n"
          ],
          "name": "stdout"
        }
      ]
    },
    {
      "metadata": {
        "id": "myNpCzDPfB4W",
        "colab_type": "code",
        "colab": {
          "base_uri": "https://localhost:8080/",
          "height": 582
        },
        "outputId": "51d56643-84c0-4b3d-ebec-dffccaa4bdae"
      },
      "cell_type": "code",
      "source": [
        "input = Input(shape=(img_height, img_width, channel,))\n",
        "\n",
        "# Layer 1\n",
        "layer1 = Conv2D(32, (3,3), strides=(1,1), padding='same', name='conv_1', use_bias=False)(input)\n",
        "layer1 = Conv2D(64, (3,3), strides=(1,1), padding='same', name='conv_2', use_bias=False)(layer1)\n",
        "layer1 = Conv2D(128, (3,3), strides=(1,1), padding='same', name='conv_3', use_bias=False)(layer1)\n",
        "layer1 = Conv2D(256, (3,3), strides=(1,1), padding='same', name='conv_4', use_bias=False)(layer1)\n",
        "layer1 = Conv2D(512, (3,3), strides=(1,1), padding='same', name='conv_5', use_bias=False)(layer1)\n",
        "layer1 = MaxPooling2D(pool_size=(2, 2))(layer1)\n",
        "skip_connection = layer1\n",
        "\n",
        "# Layer 2\n",
        "layer1 = Conv2D(32, (3,3), strides=(1,1), padding='same', name='conv_6', use_bias=False)(layer1)\n",
        "layer1 = Conv2D(64, (3,3), strides=(1,1), padding='same', name='conv_7', use_bias=False)(layer1)\n",
        "layer1 = Conv2D(128, (3,3), strides=(1,1), padding='same', name='conv_8', use_bias=False)(layer1)\n",
        "layer1 = Conv2D(256, (3,3), strides=(1,1), padding='same', name='conv_9', use_bias=False)(layer1)\n",
        "layer1 = Conv2D(512, (3,3), strides=(1,1), padding='same', name='conv_10', use_bias=False)(layer1)\n",
        "layer1 = MaxPooling2D(pool_size=(2, 2))(layer1)\n",
        "\n",
        "\n",
        "# Layer 3\n",
        "layer1 = Conv2D(32, (3,3), strides=(1,1), padding='same', name='conv_11', use_bias=False)(layer1)\n",
        "layer1 = Conv2D(64, (3,3), strides=(1,1), padding='same', name='conv_12', use_bias=False)(layer1)\n",
        "layer1 = Conv2D(128, (3,3), strides=(1,1), padding='same', name='conv_13', use_bias=False)(layer1)\n",
        "layer1 = Conv2D(256, (3,3), strides=(1,1), padding='same', name='conv_14', use_bias=False)(layer1)\n",
        "layer1 = Conv2D(512, (3,3), strides=(1,1), padding='same', name='conv_15', use_bias=False)(layer1)\n",
        "layer1 = MaxPooling2D(pool_size=(2, 2))(layer1)\n",
        "\n",
        "\n",
        "# Layer 4\n",
        "skip_connection = Conv2D(32, (3,3), strides=(1,1), padding='same', name='conv_16', use_bias=False)(skip_connection)\n",
        "skip_connection = Conv2D(64, (3,3), strides=(1,1), padding='same', name='conv_17', use_bias=False)(skip_connection)\n",
        "skip_connection = Conv2D(128, (3,3), strides=(1,1), padding='same', name='conv_18', use_bias=False)(skip_connection)\n",
        "skip_connection = Conv2D(256, (3,3), strides=(1,1), padding='same', name='conv_19', use_bias=False)(skip_connection)\n",
        "skip_connection = Conv2D(512, (3,3), strides=(1,1), padding='same', name='conv_20', use_bias=False)(skip_connection)\n",
        "skip_connection = MaxPooling2D(pool_size=(2, 2))(skip_connection)\n",
        "\n",
        "\n",
        "\n",
        "layer1 = concatenate([skip_connection, layer1])\n",
        "\n",
        "layer1 = Flatten()(layer1)\n",
        "\n",
        "output = Dense(num_classes, activation='softmax')(layer1)"
      ],
      "execution_count": 15,
      "outputs": [
        {
          "output_type": "error",
          "ename": "ValueError",
          "evalue": "ignored",
          "traceback": [
            "\u001b[0;31m---------------------------------------------------------------------------\u001b[0m",
            "\u001b[0;31mValueError\u001b[0m                                Traceback (most recent call last)",
            "\u001b[0;32m<ipython-input-15-4099d1cddd9c>\u001b[0m in \u001b[0;36m<module>\u001b[0;34m()\u001b[0m\n\u001b[1;32m     38\u001b[0m \u001b[0;34m\u001b[0m\u001b[0m\n\u001b[1;32m     39\u001b[0m \u001b[0;34m\u001b[0m\u001b[0m\n\u001b[0;32m---> 40\u001b[0;31m \u001b[0mlayer1\u001b[0m \u001b[0;34m=\u001b[0m \u001b[0mconcatenate\u001b[0m\u001b[0;34m(\u001b[0m\u001b[0;34m[\u001b[0m\u001b[0mskip_connection\u001b[0m\u001b[0;34m,\u001b[0m \u001b[0mlayer1\u001b[0m\u001b[0;34m]\u001b[0m\u001b[0;34m)\u001b[0m\u001b[0;34m\u001b[0m\u001b[0;34m\u001b[0m\u001b[0m\n\u001b[0m\u001b[1;32m     41\u001b[0m \u001b[0;34m\u001b[0m\u001b[0m\n\u001b[1;32m     42\u001b[0m \u001b[0mlayer1\u001b[0m \u001b[0;34m=\u001b[0m \u001b[0mFlatten\u001b[0m\u001b[0;34m(\u001b[0m\u001b[0;34m)\u001b[0m\u001b[0;34m(\u001b[0m\u001b[0mlayer1\u001b[0m\u001b[0;34m)\u001b[0m\u001b[0;34m\u001b[0m\u001b[0;34m\u001b[0m\u001b[0m\n",
            "\u001b[0;32m/usr/local/lib/python3.6/dist-packages/keras/layers/merge.py\u001b[0m in \u001b[0;36mconcatenate\u001b[0;34m(inputs, axis, **kwargs)\u001b[0m\n\u001b[1;32m    647\u001b[0m         \u001b[0mA\u001b[0m \u001b[0mtensor\u001b[0m\u001b[0;34m,\u001b[0m \u001b[0mthe\u001b[0m \u001b[0mconcatenation\u001b[0m \u001b[0mof\u001b[0m \u001b[0mthe\u001b[0m \u001b[0minputs\u001b[0m \u001b[0malongside\u001b[0m \u001b[0maxis\u001b[0m\u001b[0;31m \u001b[0m\u001b[0;31m`\u001b[0m\u001b[0maxis\u001b[0m\u001b[0;31m`\u001b[0m\u001b[0;34m.\u001b[0m\u001b[0;34m\u001b[0m\u001b[0;34m\u001b[0m\u001b[0m\n\u001b[1;32m    648\u001b[0m     \"\"\"\n\u001b[0;32m--> 649\u001b[0;31m     \u001b[0;32mreturn\u001b[0m \u001b[0mConcatenate\u001b[0m\u001b[0;34m(\u001b[0m\u001b[0maxis\u001b[0m\u001b[0;34m=\u001b[0m\u001b[0maxis\u001b[0m\u001b[0;34m,\u001b[0m \u001b[0;34m**\u001b[0m\u001b[0mkwargs\u001b[0m\u001b[0;34m)\u001b[0m\u001b[0;34m(\u001b[0m\u001b[0minputs\u001b[0m\u001b[0;34m)\u001b[0m\u001b[0;34m\u001b[0m\u001b[0;34m\u001b[0m\u001b[0m\n\u001b[0m\u001b[1;32m    650\u001b[0m \u001b[0;34m\u001b[0m\u001b[0m\n\u001b[1;32m    651\u001b[0m \u001b[0;34m\u001b[0m\u001b[0m\n",
            "\u001b[0;32m/usr/local/lib/python3.6/dist-packages/keras/engine/base_layer.py\u001b[0m in \u001b[0;36m__call__\u001b[0;34m(self, inputs, **kwargs)\u001b[0m\n\u001b[1;32m    429\u001b[0m                                          \u001b[0;34m'You can build it manually via: '\u001b[0m\u001b[0;34m\u001b[0m\u001b[0;34m\u001b[0m\u001b[0m\n\u001b[1;32m    430\u001b[0m                                          '`layer.build(batch_input_shape)`')\n\u001b[0;32m--> 431\u001b[0;31m                 \u001b[0mself\u001b[0m\u001b[0;34m.\u001b[0m\u001b[0mbuild\u001b[0m\u001b[0;34m(\u001b[0m\u001b[0munpack_singleton\u001b[0m\u001b[0;34m(\u001b[0m\u001b[0minput_shapes\u001b[0m\u001b[0;34m)\u001b[0m\u001b[0;34m)\u001b[0m\u001b[0;34m\u001b[0m\u001b[0;34m\u001b[0m\u001b[0m\n\u001b[0m\u001b[1;32m    432\u001b[0m                 \u001b[0mself\u001b[0m\u001b[0;34m.\u001b[0m\u001b[0mbuilt\u001b[0m \u001b[0;34m=\u001b[0m \u001b[0;32mTrue\u001b[0m\u001b[0;34m\u001b[0m\u001b[0;34m\u001b[0m\u001b[0m\n\u001b[1;32m    433\u001b[0m \u001b[0;34m\u001b[0m\u001b[0m\n",
            "\u001b[0;32m/usr/local/lib/python3.6/dist-packages/keras/layers/merge.py\u001b[0m in \u001b[0;36mbuild\u001b[0;34m(self, input_shape)\u001b[0m\n\u001b[1;32m    360\u001b[0m                              \u001b[0;34m'inputs with matching shapes '\u001b[0m\u001b[0;34m\u001b[0m\u001b[0;34m\u001b[0m\u001b[0m\n\u001b[1;32m    361\u001b[0m                              \u001b[0;34m'except for the concat axis. '\u001b[0m\u001b[0;34m\u001b[0m\u001b[0;34m\u001b[0m\u001b[0m\n\u001b[0;32m--> 362\u001b[0;31m                              'Got inputs shapes: %s' % (input_shape))\n\u001b[0m\u001b[1;32m    363\u001b[0m \u001b[0;34m\u001b[0m\u001b[0m\n\u001b[1;32m    364\u001b[0m     \u001b[0;32mdef\u001b[0m \u001b[0m_merge_function\u001b[0m\u001b[0;34m(\u001b[0m\u001b[0mself\u001b[0m\u001b[0;34m,\u001b[0m \u001b[0minputs\u001b[0m\u001b[0;34m)\u001b[0m\u001b[0;34m:\u001b[0m\u001b[0;34m\u001b[0m\u001b[0;34m\u001b[0m\u001b[0m\n",
            "\u001b[0;31mValueError\u001b[0m: A `Concatenate` layer requires inputs with matching shapes except for the concat axis. Got inputs shapes: [(None, 8, 8, 512), (None, 4, 4, 512)]"
          ]
        }
      ]
    },
    {
      "metadata": {
        "id": "Jeh0VAxy26NV",
        "colab_type": "code",
        "outputId": "70492f0b-bbaa-4d34-e460-4949ff61d4ff",
        "colab": {
          "base_uri": "https://localhost:8080/",
          "height": 1042
        }
      },
      "cell_type": "code",
      "source": [
        "model = Model(inputs=[input], outputs=[output])\n",
        "model.summary()"
      ],
      "execution_count": 14,
      "outputs": [
        {
          "output_type": "stream",
          "text": [
            "_________________________________________________________________\n",
            "Layer (type)                 Output Shape              Param #   \n",
            "=================================================================\n",
            "input_5 (InputLayer)         (None, 32, 32, 3)         0         \n",
            "_________________________________________________________________\n",
            "conv_1 (Conv2D)              (None, 32, 32, 32)        864       \n",
            "_________________________________________________________________\n",
            "conv_2 (Conv2D)              (None, 32, 32, 64)        18432     \n",
            "_________________________________________________________________\n",
            "conv_3 (Conv2D)              (None, 32, 32, 128)       73728     \n",
            "_________________________________________________________________\n",
            "conv_4 (Conv2D)              (None, 32, 32, 256)       294912    \n",
            "_________________________________________________________________\n",
            "conv_5 (Conv2D)              (None, 32, 32, 512)       1179648   \n",
            "_________________________________________________________________\n",
            "max_pooling2d_8 (MaxPooling2 (None, 16, 16, 512)       0         \n",
            "_________________________________________________________________\n",
            "conv_6 (Conv2D)              (None, 16, 16, 32)        147456    \n",
            "_________________________________________________________________\n",
            "conv_7 (Conv2D)              (None, 16, 16, 64)        18432     \n",
            "_________________________________________________________________\n",
            "conv_8 (Conv2D)              (None, 16, 16, 128)       73728     \n",
            "_________________________________________________________________\n",
            "conv_9 (Conv2D)              (None, 16, 16, 256)       294912    \n",
            "_________________________________________________________________\n",
            "conv_10 (Conv2D)             (None, 16, 16, 512)       1179648   \n",
            "_________________________________________________________________\n",
            "max_pooling2d_9 (MaxPooling2 (None, 8, 8, 512)         0         \n",
            "_________________________________________________________________\n",
            "conv_11 (Conv2D)             (None, 8, 8, 32)          147456    \n",
            "_________________________________________________________________\n",
            "conv_12 (Conv2D)             (None, 8, 8, 64)          18432     \n",
            "_________________________________________________________________\n",
            "conv_13 (Conv2D)             (None, 8, 8, 128)         73728     \n",
            "_________________________________________________________________\n",
            "conv_14 (Conv2D)             (None, 8, 8, 256)         294912    \n",
            "_________________________________________________________________\n",
            "conv_15 (Conv2D)             (None, 8, 8, 512)         1179648   \n",
            "_________________________________________________________________\n",
            "max_pooling2d_10 (MaxPooling (None, 4, 4, 512)         0         \n",
            "_________________________________________________________________\n",
            "conv_16 (Conv2D)             (None, 4, 4, 32)          147456    \n",
            "_________________________________________________________________\n",
            "conv_17 (Conv2D)             (None, 4, 4, 64)          18432     \n",
            "_________________________________________________________________\n",
            "conv_18 (Conv2D)             (None, 4, 4, 128)         73728     \n",
            "_________________________________________________________________\n",
            "conv_19 (Conv2D)             (None, 4, 4, 256)         294912    \n",
            "_________________________________________________________________\n",
            "conv_20 (Conv2D)             (None, 4, 4, 512)         1179648   \n",
            "_________________________________________________________________\n",
            "max_pooling2d_11 (MaxPooling (None, 2, 2, 512)         0         \n",
            "_________________________________________________________________\n",
            "flatten_4 (Flatten)          (None, 2048)              0         \n",
            "_________________________________________________________________\n",
            "dense_4 (Dense)              (None, 10)                20490     \n",
            "=================================================================\n",
            "Total params: 6,730,602\n",
            "Trainable params: 6,730,602\n",
            "Non-trainable params: 0\n",
            "_________________________________________________________________\n"
          ],
          "name": "stdout"
        }
      ]
    },
    {
      "metadata": {
        "id": "apCwOjvZ4Kts",
        "colab_type": "code",
        "colab": {}
      },
      "cell_type": "code",
      "source": [
        "# determine Loss function and Optimizer\n",
        "model.compile(loss='categorical_crossentropy',\n",
        "              optimizer=Adam(),\n",
        "              metrics=['accuracy'])"
      ],
      "execution_count": 0,
      "outputs": []
    },
    {
      "metadata": {
        "id": "tLaFy2AO4TLl",
        "colab_type": "code",
        "outputId": "2e36ebc1-c2b6-4535-dd10-0295527f7246",
        "colab": {
          "base_uri": "https://localhost:8080/",
          "height": 1801
        }
      },
      "cell_type": "code",
      "source": [
        "model.fit(x_train, y_train,\n",
        "                    batch_size=batch_size,\n",
        "                    epochs=epochs,\n",
        "                    verbose=1,\n",
        "                    validation_data=(x_test, y_test))"
      ],
      "execution_count": 0,
      "outputs": [
        {
          "output_type": "stream",
          "text": [
            "WARNING:tensorflow:From /usr/local/lib/python3.6/dist-packages/tensorflow/python/ops/math_ops.py:3066: to_int32 (from tensorflow.python.ops.math_ops) is deprecated and will be removed in a future version.\n",
            "Instructions for updating:\n",
            "Use tf.cast instead.\n",
            "Train on 50000 samples, validate on 10000 samples\n",
            "Epoch 1/50\n",
            "50000/50000 [==============================] - 106s 2ms/step - loss: 1.4343 - acc: 0.4787 - val_loss: 2.1679 - val_acc: 0.3629\n",
            "Epoch 2/50\n",
            "50000/50000 [==============================] - 92s 2ms/step - loss: 0.9772 - acc: 0.6498 - val_loss: 1.0646 - val_acc: 0.6414\n",
            "Epoch 3/50\n",
            "50000/50000 [==============================] - 92s 2ms/step - loss: 0.7734 - acc: 0.7295 - val_loss: 1.3574 - val_acc: 0.5768\n",
            "Epoch 4/50\n",
            "50000/50000 [==============================] - 92s 2ms/step - loss: 0.6515 - acc: 0.7735 - val_loss: 1.4387 - val_acc: 0.5554\n",
            "Epoch 5/50\n",
            "50000/50000 [==============================] - 92s 2ms/step - loss: 0.5543 - acc: 0.8079 - val_loss: 0.9330 - val_acc: 0.7149\n",
            "Epoch 6/50\n",
            "50000/50000 [==============================] - 92s 2ms/step - loss: 0.4665 - acc: 0.8388 - val_loss: 0.9897 - val_acc: 0.7071\n",
            "Epoch 7/50\n",
            "50000/50000 [==============================] - 92s 2ms/step - loss: 0.4092 - acc: 0.8576 - val_loss: 0.9845 - val_acc: 0.7097\n",
            "Epoch 8/50\n",
            "50000/50000 [==============================] - 92s 2ms/step - loss: 0.3631 - acc: 0.8729 - val_loss: 1.0156 - val_acc: 0.7243\n",
            "Epoch 9/50\n",
            "50000/50000 [==============================] - 93s 2ms/step - loss: 0.2979 - acc: 0.8964 - val_loss: 1.2198 - val_acc: 0.6844\n",
            "Epoch 10/50\n",
            "50000/50000 [==============================] - 93s 2ms/step - loss: 0.2642 - acc: 0.9080 - val_loss: 1.1578 - val_acc: 0.6947\n",
            "Epoch 11/50\n",
            "50000/50000 [==============================] - 92s 2ms/step - loss: 0.2135 - acc: 0.9260 - val_loss: 0.8719 - val_acc: 0.7595\n",
            "Epoch 12/50\n",
            "50000/50000 [==============================] - 92s 2ms/step - loss: 0.1821 - acc: 0.9364 - val_loss: 0.8973 - val_acc: 0.7663\n",
            "Epoch 13/50\n",
            "50000/50000 [==============================] - 92s 2ms/step - loss: 0.1576 - acc: 0.9456 - val_loss: 1.1552 - val_acc: 0.7217\n",
            "Epoch 14/50\n",
            "50000/50000 [==============================] - 93s 2ms/step - loss: 0.1376 - acc: 0.9527 - val_loss: 0.9941 - val_acc: 0.7599\n",
            "Epoch 15/50\n",
            "50000/50000 [==============================] - 93s 2ms/step - loss: 0.1208 - acc: 0.9579 - val_loss: 0.9233 - val_acc: 0.7821\n",
            "Epoch 16/50\n",
            "50000/50000 [==============================] - 92s 2ms/step - loss: 0.1181 - acc: 0.9581 - val_loss: 1.0166 - val_acc: 0.7694\n",
            "Epoch 17/50\n",
            "50000/50000 [==============================] - 92s 2ms/step - loss: 0.1057 - acc: 0.9627 - val_loss: 1.1387 - val_acc: 0.7496\n",
            "Epoch 18/50\n",
            "50000/50000 [==============================] - 92s 2ms/step - loss: 0.0941 - acc: 0.9671 - val_loss: 1.1446 - val_acc: 0.7427\n",
            "Epoch 19/50\n",
            "50000/50000 [==============================] - 92s 2ms/step - loss: 0.0971 - acc: 0.9666 - val_loss: 0.9763 - val_acc: 0.7749\n",
            "Epoch 20/50\n",
            "50000/50000 [==============================] - 92s 2ms/step - loss: 0.0757 - acc: 0.9737 - val_loss: 1.1408 - val_acc: 0.7710\n",
            "Epoch 21/50\n",
            "50000/50000 [==============================] - 92s 2ms/step - loss: 0.0777 - acc: 0.9721 - val_loss: 1.1102 - val_acc: 0.7754\n",
            "Epoch 22/50\n",
            "50000/50000 [==============================] - 92s 2ms/step - loss: 0.1673 - acc: 0.9484 - val_loss: 0.9333 - val_acc: 0.7749\n",
            "Epoch 23/50\n",
            "50000/50000 [==============================] - 92s 2ms/step - loss: 0.0737 - acc: 0.9755 - val_loss: 1.1375 - val_acc: 0.7679\n",
            "Epoch 24/50\n",
            "50000/50000 [==============================] - 92s 2ms/step - loss: 0.0599 - acc: 0.9788 - val_loss: 1.1915 - val_acc: 0.7587\n",
            "Epoch 25/50\n",
            "50000/50000 [==============================] - 92s 2ms/step - loss: 0.0540 - acc: 0.9816 - val_loss: 1.2840 - val_acc: 0.7586\n",
            "Epoch 26/50\n",
            "50000/50000 [==============================] - 92s 2ms/step - loss: 0.0578 - acc: 0.9794 - val_loss: 1.2210 - val_acc: 0.7557\n",
            "Epoch 27/50\n",
            "50000/50000 [==============================] - 93s 2ms/step - loss: 0.0563 - acc: 0.9802 - val_loss: 1.3588 - val_acc: 0.7274\n",
            "Epoch 28/50\n",
            "50000/50000 [==============================] - 93s 2ms/step - loss: 0.0515 - acc: 0.9827 - val_loss: 1.0420 - val_acc: 0.7975\n",
            "Epoch 29/50\n",
            "50000/50000 [==============================] - 93s 2ms/step - loss: 0.0518 - acc: 0.9819 - val_loss: 1.1326 - val_acc: 0.7712\n",
            "Epoch 30/50\n",
            "50000/50000 [==============================] - 93s 2ms/step - loss: 0.0516 - acc: 0.9830 - val_loss: 1.0403 - val_acc: 0.7915\n",
            "Epoch 31/50\n",
            "50000/50000 [==============================] - 93s 2ms/step - loss: 0.0453 - acc: 0.9844 - val_loss: 1.6061 - val_acc: 0.7142\n",
            "Epoch 32/50\n",
            "50000/50000 [==============================] - 93s 2ms/step - loss: 0.0488 - acc: 0.9833 - val_loss: 1.1376 - val_acc: 0.7806\n",
            "Epoch 33/50\n",
            "50000/50000 [==============================] - 93s 2ms/step - loss: 0.0487 - acc: 0.9828 - val_loss: 1.1392 - val_acc: 0.7875\n",
            "Epoch 34/50\n",
            "50000/50000 [==============================] - 93s 2ms/step - loss: 0.0542 - acc: 0.9817 - val_loss: 1.1899 - val_acc: 0.7602\n",
            "Epoch 35/50\n",
            "50000/50000 [==============================] - 93s 2ms/step - loss: 0.0451 - acc: 0.9851 - val_loss: 1.3826 - val_acc: 0.7416\n",
            "Epoch 36/50\n",
            "50000/50000 [==============================] - 93s 2ms/step - loss: 0.0386 - acc: 0.9870 - val_loss: 0.9988 - val_acc: 0.7963\n",
            "Epoch 37/50\n",
            "50000/50000 [==============================] - 93s 2ms/step - loss: 0.0400 - acc: 0.9864 - val_loss: 1.2570 - val_acc: 0.7588\n",
            "Epoch 38/50\n",
            "50000/50000 [==============================] - 93s 2ms/step - loss: 0.0595 - acc: 0.9803 - val_loss: 1.1901 - val_acc: 0.7730\n",
            "Epoch 39/50\n",
            "50000/50000 [==============================] - 93s 2ms/step - loss: 0.0393 - acc: 0.9865 - val_loss: 1.1498 - val_acc: 0.7818\n",
            "Epoch 40/50\n",
            "50000/50000 [==============================] - 92s 2ms/step - loss: 0.0334 - acc: 0.9889 - val_loss: 1.1618 - val_acc: 0.7784\n",
            "Epoch 41/50\n",
            "50000/50000 [==============================] - 92s 2ms/step - loss: 0.0344 - acc: 0.9879 - val_loss: 1.1663 - val_acc: 0.7833\n",
            "Epoch 42/50\n",
            "50000/50000 [==============================] - 92s 2ms/step - loss: 0.0317 - acc: 0.9889 - val_loss: 1.2196 - val_acc: 0.7846\n",
            "Epoch 43/50\n",
            "50000/50000 [==============================] - 92s 2ms/step - loss: 0.0332 - acc: 0.9887 - val_loss: 1.1319 - val_acc: 0.7844\n",
            "Epoch 44/50\n",
            "50000/50000 [==============================] - 93s 2ms/step - loss: 0.0324 - acc: 0.9890 - val_loss: 1.3379 - val_acc: 0.7558\n",
            "Epoch 45/50\n",
            "50000/50000 [==============================] - 92s 2ms/step - loss: 0.0451 - acc: 0.9854 - val_loss: 1.1551 - val_acc: 0.7771\n",
            "Epoch 46/50\n",
            "50000/50000 [==============================] - 92s 2ms/step - loss: 0.0286 - acc: 0.9905 - val_loss: 1.1344 - val_acc: 0.7920\n",
            "Epoch 47/50\n",
            "50000/50000 [==============================] - 93s 2ms/step - loss: 0.0288 - acc: 0.9905 - val_loss: 1.1529 - val_acc: 0.7948\n",
            "Epoch 48/50\n",
            "50000/50000 [==============================] - 92s 2ms/step - loss: 0.0274 - acc: 0.9911 - val_loss: 1.2862 - val_acc: 0.7761\n",
            "Epoch 49/50\n",
            "50000/50000 [==============================] - 92s 2ms/step - loss: 0.0280 - acc: 0.9905 - val_loss: 1.0967 - val_acc: 0.7936\n",
            "Epoch 50/50\n",
            "50000/50000 [==============================] - 92s 2ms/step - loss: 0.0288 - acc: 0.9906 - val_loss: 1.3173 - val_acc: 0.7693\n"
          ],
          "name": "stdout"
        },
        {
          "output_type": "execute_result",
          "data": {
            "text/plain": [
              "<keras.callbacks.History at 0x7fc72f29f1d0>"
            ]
          },
          "metadata": {
            "tags": []
          },
          "execution_count": 7
        }
      ]
    },
    {
      "metadata": {
        "id": "pTfZIGrf4Uyd",
        "colab_type": "code",
        "outputId": "cd80fdf7-768c-47eb-eb3c-4be21e3b1653",
        "colab": {
          "base_uri": "https://localhost:8080/",
          "height": 84
        }
      },
      "cell_type": "code",
      "source": [
        "# Test the model\n",
        "score = model.evaluate(x_test, y_test, verbose=1)\n",
        "print('Test loss:', score[0])\n",
        "print('Test accuracy:', score[1])\n",
        "# Save the trained weights in to .h5 format\n",
        "model.save_weights(\"Yolo_Basic_model2.h5\")\n",
        "print(\"Saved the model to disk\")"
      ],
      "execution_count": 0,
      "outputs": [
        {
          "output_type": "stream",
          "text": [
            "10000/10000 [==============================] - 9s 936us/step\n",
            "Test loss: 1.317255509376526\n",
            "Test accuracy: 0.7693\n",
            "Saved the model to disk\n"
          ],
          "name": "stdout"
        }
      ]
    },
    {
      "metadata": {
        "id": "Jiyb9TlVGsZs",
        "colab_type": "code",
        "outputId": "8536d550-d1c5-4971-c511-ce594738a138",
        "colab": {
          "base_uri": "https://localhost:8080/",
          "height": 330
        }
      },
      "cell_type": "code",
      "source": [
        "model.save_weights(\"Yolo_Basic_model2.h5\")\n",
        "print(\"Saved the model to disk\")\n",
        "from google.colab import files\n",
        "\n",
        "files.download('Yolo_Basic_model.h5')"
      ],
      "execution_count": 0,
      "outputs": [
        {
          "output_type": "stream",
          "text": [
            "Saved the model to disk\n"
          ],
          "name": "stdout"
        },
        {
          "output_type": "error",
          "ename": "FileNotFoundError",
          "evalue": "ignored",
          "traceback": [
            "\u001b[0;31m---------------------------------------------------------------------------\u001b[0m",
            "\u001b[0;31mFileNotFoundError\u001b[0m                         Traceback (most recent call last)",
            "\u001b[0;32m<ipython-input-9-7fd61af6c08d>\u001b[0m in \u001b[0;36m<module>\u001b[0;34m()\u001b[0m\n\u001b[1;32m      3\u001b[0m \u001b[0;32mfrom\u001b[0m \u001b[0mgoogle\u001b[0m\u001b[0;34m.\u001b[0m\u001b[0mcolab\u001b[0m \u001b[0;32mimport\u001b[0m \u001b[0mfiles\u001b[0m\u001b[0;34m\u001b[0m\u001b[0;34m\u001b[0m\u001b[0m\n\u001b[1;32m      4\u001b[0m \u001b[0;34m\u001b[0m\u001b[0m\n\u001b[0;32m----> 5\u001b[0;31m \u001b[0mfiles\u001b[0m\u001b[0;34m.\u001b[0m\u001b[0mdownload\u001b[0m\u001b[0;34m(\u001b[0m\u001b[0;34m'Yolo_Basic_model.h5'\u001b[0m\u001b[0;34m)\u001b[0m\u001b[0;34m\u001b[0m\u001b[0;34m\u001b[0m\u001b[0m\n\u001b[0m",
            "\u001b[0;32m/usr/local/lib/python3.6/dist-packages/google/colab/files.py\u001b[0m in \u001b[0;36mdownload\u001b[0;34m(filename)\u001b[0m\n\u001b[1;32m    142\u001b[0m       \u001b[0;32mraise\u001b[0m \u001b[0mOSError\u001b[0m\u001b[0;34m(\u001b[0m\u001b[0mmsg\u001b[0m\u001b[0;34m)\u001b[0m\u001b[0;34m\u001b[0m\u001b[0;34m\u001b[0m\u001b[0m\n\u001b[1;32m    143\u001b[0m     \u001b[0;32melse\u001b[0m\u001b[0;34m:\u001b[0m\u001b[0;34m\u001b[0m\u001b[0;34m\u001b[0m\u001b[0m\n\u001b[0;32m--> 144\u001b[0;31m       \u001b[0;32mraise\u001b[0m \u001b[0mFileNotFoundError\u001b[0m\u001b[0;34m(\u001b[0m\u001b[0mmsg\u001b[0m\u001b[0;34m)\u001b[0m  \u001b[0;31m# pylint: disable=undefined-variable\u001b[0m\u001b[0;34m\u001b[0m\u001b[0;34m\u001b[0m\u001b[0m\n\u001b[0m\u001b[1;32m    145\u001b[0m \u001b[0;34m\u001b[0m\u001b[0m\n\u001b[1;32m    146\u001b[0m   \u001b[0mstarted\u001b[0m \u001b[0;34m=\u001b[0m \u001b[0m_threading\u001b[0m\u001b[0;34m.\u001b[0m\u001b[0mEvent\u001b[0m\u001b[0;34m(\u001b[0m\u001b[0;34m)\u001b[0m\u001b[0;34m\u001b[0m\u001b[0;34m\u001b[0m\u001b[0m\n",
            "\u001b[0;31mFileNotFoundError\u001b[0m: Cannot find file: Yolo_Basic_model.h5"
          ]
        }
      ]
    },
    {
      "metadata": {
        "id": "g9A3pesKbUJ8",
        "colab_type": "code",
        "colab": {}
      },
      "cell_type": "code",
      "source": [
        ""
      ],
      "execution_count": 0,
      "outputs": []
    }
  ]
}