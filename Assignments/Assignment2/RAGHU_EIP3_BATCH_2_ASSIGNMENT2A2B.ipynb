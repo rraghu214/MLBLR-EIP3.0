{
  "nbformat": 4,
  "nbformat_minor": 0,
  "metadata": {
    "colab": {
      "name": "RAGHU_EIP3_BATCH_2_ASSIGNMENT2A.ipynb",
      "version": "0.3.2",
      "provenance": [],
      "collapsed_sections": []
    },
    "kernelspec": {
      "name": "python3",
      "display_name": "Python 3"
    }
  },
  "cells": [
    {
      "metadata": {
        "id": "LiYZ-uWnv_vj",
        "colab_type": "text"
      },
      "cell_type": "markdown",
      "source": [
        "#ASSIGNMENT2A#"
      ]
    },
    {
      "metadata": {
        "id": "oCPfN4O0uHRh",
        "colab_type": "text"
      },
      "cell_type": "markdown",
      "source": [
        "#Backpropagation Step by Step#\n",
        "\n",
        "\n",
        "If you are building your own neural network, you will definitely need to understand how to train it. \n",
        "Backpropagation is a commonly used technique for training neural network. \n",
        "There are many resources explaining the technique, but this post will explain backpropagation with concrete example in a very detailed colorful steps.\n",
        "\n",
        "##Overview##\n",
        "\n",
        "In this post, we will build a neural network with three layers:\n",
        "\n",
        "Input layer with two inputs neurons.\n",
        "\n",
        "One hidden layer with two neurons.\n",
        "\n",
        "Output layer with a single neuron\n",
        "\n",
        "![Image](http://hmkcode.github.io/images/ai/nn1.png)\n",
        "\n",
        "\n",
        "##Weights, weights, weights ##\n",
        "\n",
        "Neural network training is about finding weights that minimize prediction error. We usually start our training with a set of randomly generated weights.Then, backpropagation is used to update the weights in an attempt to correctly map arbitrary inputs to outputs.\n",
        "\n",
        "Our initial weights will be as following: w1 = 0.5, w2 = 0.3, w3 = 0.2, w4 = 0.1, w5 = 0.3 and w6 = 0.4\n",
        "\n",
        "![Image2](https://github.com/rraghu214/MLBLR-EIP3.0/blob/master/Assignments/Assignment2/Archive/Image2.JPG?raw=true)\n",
        "\n",
        "\n",
        "\n",
        "##Dataset##\n",
        "\n",
        "Our dataset has one sample with two inputs and one output.\n",
        "\n",
        "![Image3](http://hmkcode.github.io/images/ai/bp_dataset.png)\n",
        "\n",
        "\n",
        "Our single sample is as following inputs=[2, 3] and output=[1]\n",
        "\n",
        "![Image4](http://hmkcode.github.io/images/ai/bp_sample.png)\n",
        "\n",
        "\n",
        "\n",
        "##Forward Pass##\n",
        "\n",
        "We will use given weights and inputs to predict the output. Inputs are multiplied by weights; the results are then passed forward to next layer.\n",
        "\n",
        "\n",
        "![Image5](https://github.com/rraghu214/MLBLR-EIP3.0/blob/master/Assignments/Assignment2/Archive/Image5.JPG?raw=true)\n",
        "\n",
        "\n",
        "##Calculating Error##\n",
        "Now, it’s time to find out how our network performed by calculating the difference between the actual output and predicted one. It’s clear that our network output, or prediction, is not even close to actual output. We can calculate the difference or the error as following.\n",
        "\n",
        "![Image6](https://github.com/rraghu214/MLBLR-EIP3.0/blob/master/Assignments/Assignment2/Archive/Image6.JPG?raw=true)\n",
        "\n",
        "\n",
        "\n",
        "## Reducing Error ##\n",
        "\n",
        "Our main goal of the training is to reduce the error or the difference between prediction and actual output. Since actual output is constant, “not changing”, the only way to reduce the error is to change prediction value. The question now is, how to change prediction value?\n",
        "\n",
        "By decomposing prediction into its basic elements we can find that weights are the variable elements affecting prediction value. In other words, in order to change prediction value, we need to change weights values.\n",
        "\n",
        "![Image7](http://hmkcode.github.io/images/ai/bp_prediction_elements.png)\n",
        "\n",
        "\n",
        "```\n",
        "The question now is how to change\\update the weights value so that the error is reduced?\n",
        "The answer is Backpropagation!\n",
        "```\n",
        "\n",
        "\n",
        "##Backpropagation##\n",
        "Backpropagation short for “backward propagation of errors”, is a mechanism used to update the weights using gradient descent. It calculates the gradient of the error function with respect to the neural network’s weights. The calculation proceeds backwards through the network.\n",
        "\n",
        "```\n",
        "Gradient descent is an iterative optimization algorithm for finding the minimum of a function; in our case we want to minimize th error function. To find a local minimum of a function using gradient descent, one takes steps proportional to the negative of the gradient of the function at the current point.\n",
        "```\n",
        "\n",
        "![Image8](http://hmkcode.github.io/images/ai/bp_update_formula.png)\n",
        "\n",
        "\n",
        "For example, to update ```w6``` , we take the current w6 and subtract the partial derivative of error function with respect to ```w6```. Optionally, we multiply the derivative of the error function by a selected number to make sure that the new updated weight is minimizing the error function; this number is called learning rate.\n",
        "\n",
        "\n",
        "![Image9](http://hmkcode.github.io/images/ai/bp_w6_update.png)\n",
        "\n",
        "\n",
        "\n",
        "The derivation of the error function is evaluated by applying the chain rule as following\n",
        "\n",
        "\n",
        "![Image 10](http://hmkcode.github.io/images/ai/bp_error_function_partial_derivative_w6.png)\n",
        "\n",
        "\n",
        "So to update w6 we can apply the following formula\n",
        "\n",
        "\n",
        "![Image11](http://hmkcode.github.io/images/ai/bp_w6_update_closed_form.png)\n",
        "\n",
        "Similarly, we can derive the update formula for w5 and any other weights existing between the output and the hidden layer.\n",
        "\n",
        "![Image12](http://hmkcode.github.io/images/ai/bp_w5_update_closed_form.png)\n",
        "\n",
        "However, when moving backward to update w1, w2, w3 and w4 existing between input and hidden layer, the partial derivative for the error function with respect to w1, for example, will be as following.\n",
        "\n",
        "![Image13](http://hmkcode.github.io/images/ai/bp_error_function_partial_derivative_w1.png)\n",
        "\n",
        "We can find the update formula for the remaining weights w2, w3 and w4 in the same way.\n",
        "\n",
        "In summary, the update formulas for all weights will be as following:\n",
        "\n",
        "![Image14](http://hmkcode.github.io/images/ai/bp_update_all_weights.png)\n",
        "\n",
        "We can rewrite the update formulas in matrices as following\n",
        "\n",
        "![Image15](http://hmkcode.github.io/images/ai/bp_update_all_weights_matrix.png)\n",
        "\n",
        "\n",
        "\n",
        "\n",
        "##Backward Pass##\n",
        "\n",
        "Using derived formulas we can find the new weights.\n",
        "\n",
        "``` Learning rate: is a hyperparameter which means that we need to manually guess its value. ```\n",
        "\n",
        "\n",
        "(  Delta = prediction - actual )\n",
        "$$ \\Delta = 0.85 - 1.0 = -0.15   $$\n",
        "\n",
        "(Learning rate, we smartly guess the number) \n",
        "\n",
        "$$ a=0.05 $$ \n",
        "\n",
        "\n",
        "$$ $$\n",
        "\n",
        "\n",
        "\n",
        "$$\\begin{pmatrix}W5 \\\\\\ W6 \\end{pmatrix}  =  \\begin{pmatrix}0.3 \\\\\\ 0.4 \\end{pmatrix} - 0.05 (-0.15)   \\begin{pmatrix}1.9 \\\\\\ 0.7 \\end{pmatrix}  = \\begin{pmatrix}0.3 \\\\\\ 0.4 \\end{pmatrix} - \\begin{pmatrix} -0.014 \\\\\\ -0.005 \\end{pmatrix}  =  \\begin{pmatrix}0.314 \\\\\\ 0.405 \\end{pmatrix}  $$\n",
        "\n",
        "\n",
        "$$\\begin{pmatrix}W1 & W3 \\\\\\ W2 & W4 \\end{pmatrix}  =  \\begin{pmatrix}0.5 & 0.2  \\\\\\ 0.3&0.1 \\end{pmatrix} - 0.05 (-0.15)   \\begin{pmatrix}2 \\\\\\ 3 \\end{pmatrix} .  \\begin{pmatrix} 0.3& 0.4 \\end{pmatrix}  =  \\begin{pmatrix}0.5 & 0.2  \\\\\\ 0.3&0.1 \\end{pmatrix} - \\begin{pmatrix}0.004 & 0.006  \\\\\\ 0.007&0.01 \\end{pmatrix}  = \\begin{pmatrix}0.496 & 0.194  \\\\\\ 0.293&0.09 \\end{pmatrix}$$\n",
        "\n",
        "\n",
        "Now, using the new weights we will repeat the forward passed\n",
        "\n",
        "![Image17](https://github.com/rraghu214/MLBLR-EIP3.0/blob/master/Assignments/Assignment2/Archive/Image17.JPG?raw=true)\n",
        "\n",
        "\n",
        "\n",
        "We can notice that the prediction 0.907 is a little bit closer to actual output than the previously predicted one 0.85. We can repeat the same process of backward and forward pass until error is close or equal to zero.\n",
        "\n"
      ]
    },
    {
      "metadata": {
        "id": "BCuAq8SJGIxq",
        "colab_type": "text"
      },
      "cell_type": "markdown",
      "source": [
        "#Assignment 2B#\n"
      ]
    },
    {
      "metadata": {
        "id": "q6kFNFmRn3v5",
        "colab_type": "code",
        "colab": {
          "base_uri": "https://localhost:8080/",
          "height": 159
        },
        "outputId": "e5063995-c898-403c-c54c-6b206f78819f"
      },
      "cell_type": "code",
      "source": [
        "import numpy as np\n",
        "X=np.array([[2],[3]])\n",
        "print(\"X is \\n\")\n",
        "print((X))\n",
        "y=np.array([1])\n",
        "print(\"\\n y is \\n\")\n",
        "print(y)"
      ],
      "execution_count": 1,
      "outputs": [
        {
          "output_type": "stream",
          "text": [
            "X is \n",
            "\n",
            "[[2]\n",
            " [3]]\n",
            "\n",
            " y is \n",
            "\n",
            "[1]\n"
          ],
          "name": "stdout"
        }
      ]
    },
    {
      "metadata": {
        "id": "jsdD37xbn6FX",
        "colab_type": "code",
        "colab": {
          "base_uri": "https://localhost:8080/",
          "height": 70
        },
        "outputId": "a103427e-8c1b-48e7-dab2-a942f43cea99"
      },
      "cell_type": "code",
      "source": [
        "print(\"Setting initial weights w1 = 0.5, w2 = 0.3, w3 = 0.2, w4 = 0.1, w5 = 0.3 and w6 = 0.4\")\n",
        "wh1=np.array([[0.5,0.2],[0.3,0.1]], dtype=float)\n",
        "print(wh1)\n"
      ],
      "execution_count": 2,
      "outputs": [
        {
          "output_type": "stream",
          "text": [
            "Setting initial weights w1 = 0.5, w2 = 0.3, w3 = 0.2, w4 = 0.1, w5 = 0.3 and w6 = 0.4\n",
            "[[0.5 0.2]\n",
            " [0.3 0.1]]\n"
          ],
          "name": "stdout"
        }
      ]
    },
    {
      "metadata": {
        "id": "1p9JlAR_n6RU",
        "colab_type": "code",
        "colab": {
          "base_uri": "https://localhost:8080/",
          "height": 52
        },
        "outputId": "cd6c8f8a-c7dd-442e-9006-3cb12ac44722"
      },
      "cell_type": "code",
      "source": [
        "print(\"Hidden Layer 1\")\n",
        "#tmp = X.T\n",
        "hidden_layer_input= X.T.dot(wh1)\n",
        "print(hidden_layer_input)"
      ],
      "execution_count": 3,
      "outputs": [
        {
          "output_type": "stream",
          "text": [
            "Hidden Layer 1\n",
            "[[1.9 0.7]]\n"
          ],
          "name": "stdout"
        }
      ]
    },
    {
      "metadata": {
        "id": "7eegjW52n6a5",
        "colab_type": "code",
        "colab": {
          "base_uri": "https://localhost:8080/",
          "height": 70
        },
        "outputId": "5d36f121-f7d9-4e52-fa73-c79911483883"
      },
      "cell_type": "code",
      "source": [
        "print(\"Setting 2nd layer weights wh2,  w5 = 0.3 and w6 = 0.4\")\n",
        "wh2=np.array([[0.3],[0.4]], dtype=float)\n",
        "print(wh2)\n"
      ],
      "execution_count": 4,
      "outputs": [
        {
          "output_type": "stream",
          "text": [
            "Setting 2nd layer weights wh2,  w5 = 0.3 and w6 = 0.4\n",
            "[[0.3]\n",
            " [0.4]]\n"
          ],
          "name": "stdout"
        }
      ]
    },
    {
      "metadata": {
        "id": "4jipN9oKn6kE",
        "colab_type": "code",
        "colab": {
          "base_uri": "https://localhost:8080/",
          "height": 52
        },
        "outputId": "6e762b75-6a3e-4ec3-825d-36bfbe59169e"
      },
      "cell_type": "code",
      "source": [
        "print(\"Predicted Output..\")\n",
        "forward_out= hidden_layer_input.dot(wh2)\n",
        "print(forward_out)"
      ],
      "execution_count": 5,
      "outputs": [
        {
          "output_type": "stream",
          "text": [
            "Predicted Output..\n",
            "[[0.85]]\n"
          ],
          "name": "stdout"
        }
      ]
    },
    {
      "metadata": {
        "id": "dz2n7z7pn6uU",
        "colab_type": "code",
        "colab": {
          "base_uri": "https://localhost:8080/",
          "height": 52
        },
        "outputId": "2865e3c4-91e7-48c5-c0c6-4e0774eb2455"
      },
      "cell_type": "code",
      "source": [
        "print(\"Calculating Error\")\n",
        "#Error=1/2 * ((forward_out - y) ^ 2)\n",
        "Error = 1/2 * (np.subtract(forward_out, y) ** 2)\n",
        "print(Error)"
      ],
      "execution_count": 6,
      "outputs": [
        {
          "output_type": "stream",
          "text": [
            "Calculating Error\n",
            "[[0.01125]]\n"
          ],
          "name": "stdout"
        }
      ]
    },
    {
      "metadata": {
        "id": "tQrISBWWn64I",
        "colab_type": "code",
        "colab": {
          "base_uri": "https://localhost:8080/",
          "height": 159
        },
        "outputId": "52e61ae8-c8f3-48c9-a88f-0c863b70e01b"
      },
      "cell_type": "code",
      "source": [
        "print(\"Backward Pass..\")\n",
        "print()\n",
        "print(\"delta = prediction - actual\")\n",
        "delta= np.subtract(forward_out, y)\n",
        "print(delta)\n",
        "print()\n",
        "print()\n",
        "print(\"Learning rate\")\n",
        "a=0.05\n",
        "print(a)\n"
      ],
      "execution_count": 7,
      "outputs": [
        {
          "output_type": "stream",
          "text": [
            "Backward Pass..\n",
            "\n",
            "delta = prediction - actual\n",
            "[[-0.15]]\n",
            "\n",
            "\n",
            "Learning rate\n",
            "0.05\n"
          ],
          "name": "stdout"
        }
      ]
    },
    {
      "metadata": {
        "id": "a3k72Ewen7Bk",
        "colab_type": "code",
        "colab": {
          "base_uri": "https://localhost:8080/",
          "height": 141
        },
        "outputId": "028b6fde-64c0-4f58-b84c-dfe3481c7f3a"
      },
      "cell_type": "code",
      "source": [
        "print(\"Calculating new weights..\")\n",
        "print(\"w5, w6\")\n",
        "\n",
        "tmp1 = ((a * delta) * hidden_layer_input.T)\n",
        "print(tmp1)\n",
        "#wh2_new =  np.subtract(wh2, tmp1)\n",
        "wh2_new= wh2 - tmp1\n",
        "print()\n",
        "print(wh2_new)"
      ],
      "execution_count": 8,
      "outputs": [
        {
          "output_type": "stream",
          "text": [
            "Calculating new weights..\n",
            "w5, w6\n",
            "[[-0.01425]\n",
            " [-0.00525]]\n",
            "\n",
            "[[0.31425]\n",
            " [0.40525]]\n"
          ],
          "name": "stdout"
        }
      ]
    },
    {
      "metadata": {
        "id": "_f81x5OOn7Kh",
        "colab_type": "code",
        "colab": {
          "base_uri": "https://localhost:8080/",
          "height": 124
        },
        "outputId": "a889d259-5cf1-4776-e2bb-70a5db90a390"
      },
      "cell_type": "code",
      "source": [
        "print(\"w1, w2, w3, w4\")\n",
        "\n",
        "tmp2 = ((a * delta) * X.dot(wh2.T))\n",
        "print(tmp2)\n",
        "#wh1_new =  np.subtract(wh1, tmp2)\n",
        "wh1_new= wh1 - tmp2\n",
        "print()\n",
        "print(wh1_new)"
      ],
      "execution_count": 9,
      "outputs": [
        {
          "output_type": "stream",
          "text": [
            "w1, w2, w3, w4\n",
            "[[-0.0045  -0.006  ]\n",
            " [-0.00675 -0.009  ]]\n",
            "\n",
            "[[0.5045  0.206  ]\n",
            " [0.30675 0.109  ]]\n"
          ],
          "name": "stdout"
        }
      ]
    },
    {
      "metadata": {
        "id": "7nVuF7L3n7UC",
        "colab_type": "code",
        "colab": {
          "base_uri": "https://localhost:8080/",
          "height": 70
        },
        "outputId": "57ab882e-d4e6-4885-b168-8b1cdbf4a662"
      },
      "cell_type": "code",
      "source": [
        "print(\"Now, using the new weights we will repeat the forward pass\")\n",
        "print(\"Calculating 1st hidden layer values\")\n",
        "hidden_layer_input_fw= X.T.dot(wh1_new)\n",
        "print(hidden_layer_input_fw)"
      ],
      "execution_count": 10,
      "outputs": [
        {
          "output_type": "stream",
          "text": [
            "Now, using the new weights we will repeat the forward pass\n",
            "Calculating 1st hidden layer values\n",
            "[[1.92925 0.739  ]]\n"
          ],
          "name": "stdout"
        }
      ]
    },
    {
      "metadata": {
        "id": "YwUAIPPTn7lF",
        "colab_type": "code",
        "colab": {
          "base_uri": "https://localhost:8080/",
          "height": 52
        },
        "outputId": "54820967-4a46-4873-c508-5801f4fd2855"
      },
      "cell_type": "code",
      "source": [
        "print(\"Calculating new output \")\n",
        " \n",
        "forward_out_2= hidden_layer_input_fw.dot(wh2_new)\n",
        "print(forward_out_2)"
      ],
      "execution_count": 11,
      "outputs": [
        {
          "output_type": "stream",
          "text": [
            "Calculating new output \n",
            "[[0.90574656]]\n"
          ],
          "name": "stdout"
        }
      ]
    }
  ]
}