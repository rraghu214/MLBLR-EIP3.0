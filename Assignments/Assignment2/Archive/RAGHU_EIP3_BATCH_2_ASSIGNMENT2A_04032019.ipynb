{
  "nbformat": 4,
  "nbformat_minor": 0,
  "metadata": {
    "colab": {
      "name": "RAGHU_EIP3_BATCH_2_ASSIGNMENT2A.ipynb",
      "version": "0.3.2",
      "provenance": [],
      "collapsed_sections": []
    },
    "kernelspec": {
      "name": "python3",
      "display_name": "Python 3"
    }
  },
  "cells": [
    {
      "metadata": {
        "id": "o5A2wkFfr1Qx",
        "colab_type": "code",
        "colab": {}
      },
      "cell_type": "code",
      "source": [
        ""
      ],
      "execution_count": 0,
      "outputs": []
    },
    {
      "metadata": {
        "id": "LiYZ-uWnv_vj",
        "colab_type": "text"
      },
      "cell_type": "markdown",
      "source": [
        "#ASSIGNMENT2A#"
      ]
    },
    {
      "metadata": {
        "id": "oCPfN4O0uHRh",
        "colab_type": "text"
      },
      "cell_type": "markdown",
      "source": [
        "#Backpropagation Step by Step#\n",
        "\n",
        "\n",
        "If you are building your own neural network, you will definitely need to understand how to train it. \n",
        "Backpropagation is a commonly used technique for training neural network. \n",
        "There are many resources explaining the technique, but this post will explain backpropagation with concrete example in a very detailed colorful steps.\n",
        "\n",
        "##Overview##\n",
        "\n",
        "In this post, we will build a neural network with three layers:\n",
        "\n",
        "Input layer with two inputs neurons.\n",
        "\n",
        "One hidden layer with two neurons.\n",
        "\n",
        "Output layer with a single neuron\n",
        "\n",
        "![Image](http://hmkcode.github.io/images/ai/nn1.png)\n",
        "\n",
        "\n",
        "##Weights, weights, weights ##\n",
        "\n",
        "Neural network training is about finding weights that minimize prediction error. We usually start our training with a set of randomly generated weights.Then, backpropagation is used to update the weights in an attempt to correctly map arbitrary inputs to outputs.\n",
        "\n",
        "Our initial weights will be as following: w1 = 0.51, w2 = 0.31, w3 = 0.22, w4 = 0.02, w5 = 0.34 and w6 = 0.35\n",
        "\n",
        "![Image2]()\n",
        "\n",
        "\n",
        "##Dataset##\n",
        "\n",
        "Our dataset has one sample with two inputs and one output.\n",
        "\n",
        "![Image3](http://hmkcode.github.io/images/ai/bp_dataset.png)\n",
        "\n",
        "\n",
        "Our single sample is as following inputs=[2, 3] and output=[1]\n",
        "\n",
        "![Image4](http://hmkcode.github.io/images/ai/bp_sample.png)\n",
        "\n",
        "\n",
        "\n",
        "##Forward Pass##\n",
        "\n",
        "We will use given weights and inputs to predict the output. Inputs are multiplied by weights; the results are then passed forward to next layer.\n",
        "\n",
        "\n",
        "![Image5]()\n",
        "\n",
        "\n",
        "##Calculating Error##\n",
        "Now, it’s time to find out how our network performed by calculating the difference between the actual output and predicted one. It’s clear that our network output, or prediction, is not even close to actual output. We can calculate the difference or the error as following.\n",
        "\n",
        "![Image6]()\n",
        "\n",
        "\n",
        "\n",
        "## Reducing Error ##\n",
        "\n",
        "Our main goal of the training is to reduce the error or the difference between prediction and actual output. Since actual output is constant, “not changing”, the only way to reduce the error is to change prediction value. The question now is, how to change prediction value?\n",
        "\n",
        "By decomposing prediction into its basic elements we can find that weights are the variable elements affecting prediction value. In other words, in order to change prediction value, we need to change weights values.\n",
        "\n",
        "![Image7]()\n",
        "\n",
        "\n",
        "```\n",
        "The question now is how to change\\update the weights value so that the error is reduced?\n",
        "The answer is Backpropagation!\n",
        "```\n",
        "\n",
        "\n",
        "##Backpropagation##\n",
        "Backpropagation short for “backward propagation of errors”, is a mechanism used to update the weights using gradient descent. It calculates the gradient of the error function with respect to the neural network’s weights. The calculation proceeds backwards through the network.\n",
        "\n",
        "```\n",
        "Gradient descent is an iterative optimization algorithm for finding the minimum of a function; in our case we want to minimize th error function. To find a local minimum of a function using gradient descent, one takes steps proportional to the negative of the gradient of the function at the current point.\n",
        "```\n",
        "\n",
        "![Image8](http://hmkcode.github.io/images/ai/bp_update_formula.png)\n",
        "\n",
        "\n",
        "For example, to update ```w6``` , we take the current w6 and subtract the partial derivative of error function with respect to ```w6```. Optionally, we multiply the derivative of the error function by a selected number to make sure that the new updated weight is minimizing the error function; this number is called learning rate.\n",
        "\n",
        "\n",
        "![Image9](http://hmkcode.github.io/images/ai/bp_w6_update.png)\n",
        "\n",
        "\n",
        "\n",
        "The derivation of the error function is evaluated by applying the chain rule as following\n",
        "\n",
        "\n",
        "![Image 10](http://hmkcode.github.io/images/ai/bp_error_function_partial_derivative_w6.png)\n",
        "\n"
      ]
    },
    {
      "metadata": {
        "id": "_R_hqSSOwRBQ",
        "colab_type": "code",
        "colab": {}
      },
      "cell_type": "code",
      "source": [
        ""
      ],
      "execution_count": 0,
      "outputs": []
    }
  ]
}