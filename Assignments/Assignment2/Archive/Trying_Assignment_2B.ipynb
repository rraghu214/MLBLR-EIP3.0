{
  "nbformat": 4,
  "nbformat_minor": 0,
  "metadata": {
    "colab": {
      "name": "Trying Assignment 2B",
      "version": "0.3.2",
      "provenance": [],
      "collapsed_sections": []
    },
    "kernelspec": {
      "name": "python3",
      "display_name": "Python 3"
    }
  },
  "cells": [
    {
      "metadata": {
        "id": "PAYO49MGOR7e",
        "colab_type": "code",
        "colab": {
          "base_uri": "https://localhost:8080/",
          "height": 159
        },
        "outputId": "d7435817-5df8-45b4-a839-d52b309340b7"
      },
      "cell_type": "code",
      "source": [
        "import numpy as np\n",
        "X=np.array([[2],[3]])\n",
        "print(\"X is \\n\")\n",
        "print((X))\n",
        "y=np.array([1])\n",
        "print(\"\\n y is \\n\")\n",
        "print(y)"
      ],
      "execution_count": 1,
      "outputs": [
        {
          "output_type": "stream",
          "text": [
            "X is \n",
            "\n",
            "[[2]\n",
            " [3]]\n",
            "\n",
            " y is \n",
            "\n",
            "[1]\n"
          ],
          "name": "stdout"
        }
      ]
    },
    {
      "metadata": {
        "id": "1PLUj16ZPAwK",
        "colab_type": "code",
        "colab": {
          "base_uri": "https://localhost:8080/",
          "height": 70
        },
        "outputId": "93299417-ef3d-412c-fab2-38729cfa91d7"
      },
      "cell_type": "code",
      "source": [
        "print(\"Setting initial weights w1 = 0.5, w2 = 0.3, w3 = 0.2, w4 = 0.1, w5 = 0.3 and w6 = 0.4\")\n",
        "wh1=np.array([[0.5,0.2],[0.3,0.1]], dtype=float)\n",
        "print(wh1)\n"
      ],
      "execution_count": 2,
      "outputs": [
        {
          "output_type": "stream",
          "text": [
            "Setting initial weights w1 = 0.5, w2 = 0.3, w3 = 0.2, w4 = 0.1, w5 = 0.3 and w6 = 0.4\n",
            "[[0.5 0.2]\n",
            " [0.3 0.1]]\n"
          ],
          "name": "stdout"
        }
      ]
    },
    {
      "metadata": {
        "id": "WNubAADpXU1Q",
        "colab_type": "code",
        "colab": {
          "base_uri": "https://localhost:8080/",
          "height": 52
        },
        "outputId": "f83bfdc9-c437-493f-9933-15d549806639"
      },
      "cell_type": "code",
      "source": [
        "print(\"Hidden Layer 1\")\n",
        "#tmp = X.T\n",
        "hidden_layer_input= X.T.dot(wh1)\n",
        "print(hidden_layer_input)"
      ],
      "execution_count": 3,
      "outputs": [
        {
          "output_type": "stream",
          "text": [
            "Hidden Layer 1\n",
            "[[1.9 0.7]]\n"
          ],
          "name": "stdout"
        }
      ]
    },
    {
      "metadata": {
        "id": "uL2_wQOxZmYB",
        "colab_type": "code",
        "colab": {
          "base_uri": "https://localhost:8080/",
          "height": 70
        },
        "outputId": "3e1bc1d8-0bff-4b01-f032-f17fc1f53582"
      },
      "cell_type": "code",
      "source": [
        "print(\"Setting 2nd layer weights wh2,  w5 = 0.3 and w6 = 0.4\")\n",
        "wh2=np.array([[0.3],[0.4]], dtype=float)\n",
        "print(wh2)\n"
      ],
      "execution_count": 4,
      "outputs": [
        {
          "output_type": "stream",
          "text": [
            "Setting 2nd layer weights wh2,  w5 = 0.3 and w6 = 0.4\n",
            "[[0.3]\n",
            " [0.4]]\n"
          ],
          "name": "stdout"
        }
      ]
    },
    {
      "metadata": {
        "id": "fpBYvbFxaGIm",
        "colab_type": "code",
        "colab": {
          "base_uri": "https://localhost:8080/",
          "height": 52
        },
        "outputId": "c804b327-c320-4ed1-e750-a5d8ba010999"
      },
      "cell_type": "code",
      "source": [
        "print(\"Predicted Output..\")\n",
        "forward_out= hidden_layer_input.dot(wh2)\n",
        "print(forward_out)"
      ],
      "execution_count": 5,
      "outputs": [
        {
          "output_type": "stream",
          "text": [
            "Predicted Output..\n",
            "[[0.85]]\n"
          ],
          "name": "stdout"
        }
      ]
    },
    {
      "metadata": {
        "id": "CFVZm-c4bNBc",
        "colab_type": "code",
        "colab": {
          "base_uri": "https://localhost:8080/",
          "height": 52
        },
        "outputId": "7f749085-6aef-4d8a-c2cf-6bd396393112"
      },
      "cell_type": "code",
      "source": [
        "print(\"Calculating Error\")\n",
        "#Error=1/2 * ((forward_out - y) ^ 2)\n",
        "Error = 1/2 * (np.subtract(forward_out, y) ** 2)\n",
        "print(Error)"
      ],
      "execution_count": 6,
      "outputs": [
        {
          "output_type": "stream",
          "text": [
            "Calculating Error\n",
            "[[0.01125]]\n"
          ],
          "name": "stdout"
        }
      ]
    },
    {
      "metadata": {
        "id": "0qLAfuL5cdqe",
        "colab_type": "code",
        "colab": {
          "base_uri": "https://localhost:8080/",
          "height": 159
        },
        "outputId": "9d3d7770-10fd-4118-a018-9702506fd323"
      },
      "cell_type": "code",
      "source": [
        "print(\"Backward Pass..\")\n",
        "print()\n",
        "print(\"delta = prediction - actual\")\n",
        "delta= np.subtract(forward_out, y)\n",
        "print(delta)\n",
        "print()\n",
        "print()\n",
        "print(\"Learning rate\")\n",
        "a=0.05\n",
        "print(a)\n"
      ],
      "execution_count": 7,
      "outputs": [
        {
          "output_type": "stream",
          "text": [
            "Backward Pass..\n",
            "\n",
            "delta = prediction - actual\n",
            "[[-0.15]]\n",
            "\n",
            "\n",
            "Learning rate\n",
            "0.05\n"
          ],
          "name": "stdout"
        }
      ]
    },
    {
      "metadata": {
        "id": "mlbbGMrTeyuk",
        "colab_type": "code",
        "colab": {
          "base_uri": "https://localhost:8080/",
          "height": 141
        },
        "outputId": "34c3b1c0-fd2a-4963-cffd-f26c444a557f"
      },
      "cell_type": "code",
      "source": [
        "print(\"Calculating new weights..\")\n",
        "print(\"w5, w6\")\n",
        "\n",
        "tmp1 = ((a * delta) * hidden_layer_input.T)\n",
        "print(tmp1)\n",
        "#wh2_new =  np.subtract(wh2, tmp1)\n",
        "wh2_new= wh2 - tmp1\n",
        "print()\n",
        "print(wh2_new)"
      ],
      "execution_count": 8,
      "outputs": [
        {
          "output_type": "stream",
          "text": [
            "Calculating new weights..\n",
            "w5, w6\n",
            "[[-0.01425]\n",
            " [-0.00525]]\n",
            "\n",
            "[[0.31425]\n",
            " [0.40525]]\n"
          ],
          "name": "stdout"
        }
      ]
    },
    {
      "metadata": {
        "id": "AtLbnT_3iio5",
        "colab_type": "code",
        "colab": {
          "base_uri": "https://localhost:8080/",
          "height": 124
        },
        "outputId": "40371f63-9cc5-4efd-fdd2-3ead3e76d6a4"
      },
      "cell_type": "code",
      "source": [
        "print(\"w1, w2, w3, w4\")\n",
        "\n",
        "tmp2 = ((a * delta) * X.dot(wh2.T))\n",
        "print(tmp2)\n",
        "#wh1_new =  np.subtract(wh1, tmp2)\n",
        "wh1_new= wh1 - tmp2\n",
        "print()\n",
        "print(wh1_new)"
      ],
      "execution_count": 9,
      "outputs": [
        {
          "output_type": "stream",
          "text": [
            "w1, w2, w3, w4\n",
            "[[-0.0045  -0.006  ]\n",
            " [-0.00675 -0.009  ]]\n",
            "\n",
            "[[0.5045  0.206  ]\n",
            " [0.30675 0.109  ]]\n"
          ],
          "name": "stdout"
        }
      ]
    },
    {
      "metadata": {
        "id": "Oft6MHxzmvl_",
        "colab_type": "code",
        "colab": {
          "base_uri": "https://localhost:8080/",
          "height": 70
        },
        "outputId": "38aaafeb-51b3-4a1d-923a-0b4385affa0f"
      },
      "cell_type": "code",
      "source": [
        "print(\"Now, using the new weights we will repeat the forward pass\")\n",
        "print(\"Calculating 1st hidden layer values\")\n",
        "hidden_layer_input_fw= X.T.dot(wh1_new)\n",
        "print(hidden_layer_input_fw)"
      ],
      "execution_count": 10,
      "outputs": [
        {
          "output_type": "stream",
          "text": [
            "Now, using the new weights we will repeat the forward pass\n",
            "Calculating 1st hidden layer values\n",
            "[[1.92925 0.739  ]]\n"
          ],
          "name": "stdout"
        }
      ]
    },
    {
      "metadata": {
        "id": "l_oSyWH5nJxA",
        "colab_type": "code",
        "colab": {
          "base_uri": "https://localhost:8080/",
          "height": 52
        },
        "outputId": "7c4979a9-2c67-4929-a727-87b9ef11393d"
      },
      "cell_type": "code",
      "source": [
        "print(\"Calculating new output \")\n",
        " \n",
        "forward_out_2= hidden_layer_input_fw.dot(wh2_new)\n",
        "print(forward_out_2)"
      ],
      "execution_count": 11,
      "outputs": [
        {
          "output_type": "stream",
          "text": [
            "Calculating new output \n",
            "[[0.90574656]]\n"
          ],
          "name": "stdout"
        }
      ]
    }
  ]
}